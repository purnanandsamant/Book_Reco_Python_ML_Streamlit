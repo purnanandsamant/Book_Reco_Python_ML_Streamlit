{
 "cells": [
  {
   "cell_type": "code",
   "execution_count": 1,
   "id": "f223b12f-b465-45a2-a13f-099f5ef70edc",
   "metadata": {},
   "outputs": [
    {
     "name": "stderr",
     "output_type": "stream",
     "text": [
      "2024-08-31 15:28:26.311 \n",
      "  \u001b[33m\u001b[1mWarning:\u001b[0m to view this Streamlit app on a browser, run it with the following\n",
      "  command:\n",
      "\n",
      "    streamlit run C:\\Users\\Maddy\\AppData\\Roaming\\Python\\Python312\\site-packages\\ipykernel_launcher.py [ARGUMENTS]\n"
     ]
    }
   ],
   "source": [
    "import streamlit as st\n",
    "import pandas as pd\n",
    "import numpy as np\n",
    "import pickle\n",
    "\n",
    "# Load data\n",
    "popular_df = pickle.load(open('popular.pkl', 'rb'))\n",
    "pt = pickle.load(open('pt.pkl', 'rb'))\n",
    "books = pickle.load(open('books.pkl', 'rb'))\n",
    "similarity_scores = pickle.load(open('similarity_scores.pkl', 'rb'))\n",
    "\n",
    "# Function to recommend books\n",
    "def recommend(book_name):\n",
    "    index = np.where(pt.index == book_name)[0][0]\n",
    "    similar_items = sorted(list(enumerate(similarity_scores[index])), key=lambda x: x[1], reverse=True)[1:5]\n",
    "    data = []\n",
    "    for i in similar_items:\n",
    "        item = []\n",
    "        temp_df = books[books['Book-Title'] == pt.index[i[0]]]\n",
    "        item.extend(list(temp_df.drop_duplicates('Book-Title')['Book-Title'].values))\n",
    "        item.extend(list(temp_df.drop_duplicates('Book-Title')['Book-Author'].values))\n",
    "        item.extend(list(temp_df.drop_duplicates('Book-Title')['Image-URL-M'].values))\n",
    "        data.append(item)\n",
    "    return data\n",
    "\n",
    "# Set up the Streamlit app\n",
    "st.set_page_config(page_title=\"Book Recommender\", page_icon=\"📚\")\n",
    "\n",
    "# Tabs for navigation\n",
    "tab1, tab2 = st.tabs([\"Top 50 Books\", \"Book Recommender\"])\n",
    "\n",
    "# Page 1: Top 50 Books\n",
    "with tab1:\n",
    "    st.title(\"Top 50 Books\")\n",
    "    cols = st.columns(5)  # Create 5 columns for grid layout\n",
    "    for index, row in popular_df.iterrows():\n",
    "        col = cols[index % 5]  # Cycle through columns\n",
    "        with col:\n",
    "            st.image(row['Image-URL-M'], width=100)\n",
    "            st.write(f\"**{row['Book-Title']}** by {row['Book-Author']}\")\n",
    "            st.write(f\"Avg Rating: {row['avg_rating']}, Num Ratings: {row['num_ratings']}\")\n",
    "            st.markdown(f\"[Link to Book](#)\", unsafe_allow_html=True)  # Replace # with actual link if available\n",
    "\n",
    "# Page 2: Book Recommender\n",
    "with tab2:\n",
    "    st.title(\"Book Recommender\")\n",
    "    book_list = popular_df['Book-Title'].values\n",
    "    selected_book = st.selectbox(\"Select a book to get recommendations:\", book_list)\n",
    "    if st.button(\"Recommend\"):\n",
    "        recommendations = recommend(selected_book)\n",
    "        st.write(\"Here are some books you might like:\")\n",
    "        rec_cols = st.columns(4)  # Create 4 columns for recommendations\n",
    "        for i, rec in enumerate(recommendations):\n",
    "            with rec_cols[i]:\n",
    "                st.image(rec[2], width=100)\n",
    "                st.write(f\"**{rec[0]}** by {rec[1]}\")"
   ]
  },
  {
   "cell_type": "code",
   "execution_count": null,
   "id": "60f7f461-e273-4c11-848f-9274e02d195a",
   "metadata": {},
   "outputs": [],
   "source": []
  }
 ],
 "metadata": {
  "kernelspec": {
   "display_name": "Python 3 (ipykernel)",
   "language": "python",
   "name": "python3"
  },
  "language_info": {
   "codemirror_mode": {
    "name": "ipython",
    "version": 3
   },
   "file_extension": ".py",
   "mimetype": "text/x-python",
   "name": "python",
   "nbconvert_exporter": "python",
   "pygments_lexer": "ipython3",
   "version": "3.12.4"
  }
 },
 "nbformat": 4,
 "nbformat_minor": 5
}
